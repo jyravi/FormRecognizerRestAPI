{
 "cells": [
  {
   "cell_type": "code",
   "execution_count": 13,
   "metadata": {},
   "outputs": [],
   "source": [
    "########### Python Form Recognizer Analyze Layout #############\n",
    "\n",
    "import json\n",
    "import time\n",
    "from requests import get, post\n",
    "\n",
    "# Endpoint URL\n",
    "endpoint = r\"https://{ }.cognitiveservices.azure.com/\"\n",
    "apim_key = \" \"\n",
    "post_url = endpoint + \"/formrecognizer/v2.1/layout/analyze\"\n",
    "source = \" \" #filename for layout extraction \n",
    "\n",
    "headers = {\n",
    "    # Request headers\n",
    "    'Content-Type': 'application/pdf', ##### (or should be 'image/jpeg', 'image/png' or 'image/tiff' fepneding on the image type)\n",
    "    'Ocp-Apim-Subscription-Key': apim_key,\n",
    "}\n",
    "with open(source, \"rb\") as f:\n",
    "    data_bytes = f.read()\n",
    "\n",
    "try:\n",
    "    resp = post(url = post_url, data = data_bytes, headers = headers)\n",
    "    if resp.status_code != 202:\n",
    "        print(\"POST analyze failed:\\n%s\" % resp.text)\n",
    "        quit()\n",
    "    print(\"POST analyze succeeded:\\n%s\" % resp.headers)\n",
    "    get_url = resp.headers[\"operation-location\"]\n",
    "except Exception as e:\n",
    "    print(\"POST analyze failed:\\n%s\" % str(e))\n",
    "    quit()"
   ]
  },
  {
   "cell_type": "code",
   "execution_count": 5,
   "metadata": {
    "scrolled": false
   },
   "outputs": [
    {
     "name": "stdout",
     "output_type": "stream",
     "text": [
      "Running\n",
      "Succeeded\n"
     ]
    }
   ],
   "source": [
    "n_tries = 10\n",
    "n_try = 0\n",
    "wait_sec = 10\n",
    "resp_json = \"\"\n",
    "while n_try < n_tries:\n",
    "    try:\n",
    "        resp = get(url = get_url, headers = {\"Ocp-Apim-Subscription-Key\": apim_key})\n",
    "        resp_json = json.loads(resp.text)\n",
    "        print(\"Running\" )\n",
    "        if resp.status_code != 200:\n",
    "            print(\"GET Layout results failed:\\n%s\" % resp_json)\n",
    "            break\n",
    "        status = resp_json[\"status\"]\n",
    "        if status == \"succeeded\":\n",
    "            print(\"Succeeded\")\n",
    "            \n",
    "            #file = open(source.split('.')[0]+\"_jsonoutput.txt\", \"w\")\n",
    "            #file.write(json.dumps(resp.json())) \n",
    "            #file.close()\n",
    "            break\n",
    "        if status == \"failed\":\n",
    "            print(\"Layout Analysis failed:\\n%s\" % resp_json)\n",
    "            break\n",
    "        # Analysis still running. Wait and retry.\n",
    "        time.sleep(wait_sec)\n",
    "        n_try += 1     \n",
    "    except Exception as e:\n",
    "        msg = \"GET analyze results failed:\\n%s\" % str(e)\n",
    "        print(msg)\n",
    "        break"
   ]
  },
  {
   "cell_type": "code",
   "execution_count": 1,
   "metadata": {
    "scrolled": false
   },
   "outputs": [],
   "source": [
    "import pandas as pd\n",
    "from IPython.display import display\n",
    "import re\n",
    "\n",
    "pd.options.display.max_columns = None\n",
    "lines=[]\n",
    "for read_result in resp_json[\"analyzeResult\"][\"readResults\"]:\n",
    "    # print(\"Page No:%s\" % read_result[\"page\"])\n",
    "    print(\"--------------Page %d: Extracted OCR---------------\" % read_result[\"page\"])\n",
    "    for line in read_result[\"lines\"]:\n",
    "        lines.append((line[\"text\"]))\n",
    "\n",
    "for pageresult in resp_json[\"analyzeResult\"][\"pageResults\"]:\n",
    "    # print(\"Page No:%s\" % pageresult[\"page\"])\n",
    "    #if pageresult[\"page\"] == 4:\n",
    "   \n",
    "    for table in pageresult['tables']:\n",
    "        print(\"--------------Page %d: Extracted table---------------\" % pageresult[\"page\"])\n",
    "        # print(\"-------------------Extracted Table-------------------\")\n",
    "        print(\"No of Rows: %s\" % table[\"rows\"])\n",
    "        print(\"No of Columns: %s\" % table[\"columns\"])\n",
    "        tableList = [[None for x in range(table[\"columns\"])] for y in range(table[\"rows\"])] \n",
    "        print(type(tableList))\n",
    "        for cell in table['cells']:\n",
    "            if 'columnSpan' not in cell.keys():\n",
    "                tableList[cell[\"rowIndex\"]][cell[\"columnIndex\"]] = cell[\"text\"]\n",
    "                #print(cell[\"rowIndex\"],cell[\"columnIndex\"])\n",
    "            elif cell['columnSpan']==2:\n",
    "                #print(cell['columnSpan'],cell[\"text\"])\n",
    "                #print(re.split(', |!| |\\|', cell[\"text\"])[0])\n",
    "                #print(cell[\"rowIndex\"],cell[\"columnIndex\"])\n",
    "                tableList[cell[\"rowIndex\"]][cell[\"columnIndex\"]]=re.split(',|!| |\\|', cell[\"text\"])[0]\n",
    "                \n",
    "                cell[\"columnIndex\"]=cell[\"columnIndex\"]+1\n",
    "                tableList[cell[\"rowIndex\"]][cell[\"columnIndex\"]]=' '.join(cell[\"text\"].split(' ')[1:])\n",
    "           \n",
    "                \n",
    "        #print(\"new table\" , tableList)\n",
    "        df = pd.DataFrame.from_records(tableList)\n",
    "        display(df)\n",
    "        df.to_csv(\"extractions_\"+source.split('.')[0]+\"_\"+str(pageresult[\"page\"])+\".csv\")\n",
    "        #print(df)\n"
   ]
  },
  {
   "cell_type": "code",
   "execution_count": 2,
   "metadata": {},
   "outputs": [],
   "source": [
    "print(resp_json)\n"
   ]
  },
  {
   "cell_type": "code",
   "execution_count": null,
   "metadata": {},
   "outputs": [],
   "source": []
  }
 ],
 "metadata": {
  "kernelspec": {
   "display_name": "Python 3",
   "language": "python",
   "name": "python3"
  },
  "language_info": {
   "codemirror_mode": {
    "name": "ipython",
    "version": 3
   },
   "file_extension": ".py",
   "mimetype": "text/x-python",
   "name": "python",
   "nbconvert_exporter": "python",
   "pygments_lexer": "ipython3",
   "version": "3.6.9"
  }
 },
 "nbformat": 4,
 "nbformat_minor": 2
}
