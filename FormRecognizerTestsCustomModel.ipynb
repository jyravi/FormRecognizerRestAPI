{
 "cells": [
  {
   "cell_type": "code",
   "execution_count": 11,
   "metadata": {},
   "outputs": [],
   "source": [
    "import fitz\n",
    "import json\n",
    "import time\n",
    "from requests import get, post\n",
    "from PIL import Image\n",
    "import io"
   ]
  },
  {
   "cell_type": "code",
   "execution_count": 3,
   "metadata": {},
   "outputs": [],
   "source": [
    "# Endpoint URL\n",
    "endpoint = r\"https://**************.cognitiveservices.azure.com\" ### Service endpoint\n",
    "apim_key = \" \" ## Key for accessing the service"
   ]
  },
  {
   "cell_type": "markdown",
   "metadata": {},
   "source": [
    "### Analyze forms using custom models with labels GA version\n",
    "\n",
    "#### If you have models trained using the labelling tool, you can use the model id for analyzing similar kind of documents."
   ]
  },
  {
   "cell_type": "code",
   "execution_count": 12,
   "metadata": {},
   "outputs": [],
   "source": [
    "model_id =\" \" ### paste your model_id here\n",
    "post_url = endpoint + \"/formrecognizer/v2.1/custom/models/%s/analyze\" % model_id"
   ]
  },
  {
   "cell_type": "code",
   "execution_count": 47,
   "metadata": {},
   "outputs": [],
   "source": [
    "file=\" \" ### Test document name \n",
    "#file=\"image1.pdf\"\n",
    "with open(file, \"rb\") as f:\n",
    "    data_bytes = f.read()\n"
   ]
  },
  {
   "cell_type": "markdown",
   "metadata": {},
   "source": [
    "### For displaying the pdf file"
   ]
  },
  {
   "cell_type": "code",
   "execution_count": 1,
   "metadata": {},
   "outputs": [],
   "source": [
    "doc = fitz.open(file)\n",
    "page = doc.loadPage(0)\n",
    "pix = page.getPixmap(alpha=False)\n",
    "data=pix.getPNGData()\n",
    "image = Image.open(io.BytesIO(data))\n",
    "image"
   ]
  },
  {
   "cell_type": "markdown",
   "metadata": {},
   "source": [
    "### Calling the Rest Service for analyzing "
   ]
  },
  {
   "cell_type": "code",
   "execution_count": 2,
   "metadata": {},
   "outputs": [],
   "source": [
    "\n",
    "source = file\n",
    "params = {\n",
    "    \"includeTextDetails\": True\n",
    "}\n",
    "\n",
    "headers = {\n",
    "    # Request headers\n",
    "    'Content-Type': 'application/pdf',\n",
    "    'Ocp-Apim-Subscription-Key': apim_key,\n",
    "}\n",
    "with open(source, \"rb\") as f:\n",
    "    data_bytes = f.read()\n",
    "\n",
    "try:\n",
    "    resp = post(url = post_url, data = data_bytes, headers = headers, params = params)\n",
    "    if resp.status_code != 202:\n",
    "        print(\"POST analyze failed:\\n%s\" % json.dumps(resp.json()))\n",
    "        quit()\n",
    "    print(\"POST analyze succeeded:\\n%s\" % resp.headers)\n",
    "    get_url = resp.headers[\"operation-location\"]\n",
    "except Exception as e:\n",
    "    print(\"POST analyze failed:\\n%s\" % str(e))\n",
    "    quit() "
   ]
  },
  {
   "cell_type": "code",
   "execution_count": 3,
   "metadata": {},
   "outputs": [],
   "source": [
    "n_tries = 15\n",
    "n_try = 0\n",
    "wait_sec = 30\n",
    "max_wait_sec = 60\n",
    "time.sleep(wait_sec)\n",
    "while n_try < n_tries:\n",
    "    try:\n",
    "        resp = get(url = get_url, headers = {\"Ocp-Apim-Subscription-Key\": apim_key})\n",
    "        resp_json = resp.json()\n",
    "        if resp.status_code != 200:\n",
    "            print(\"GET analyze results failed:\\n%s\" % json.dumps(resp_json))\n",
    "            quit()\n",
    "        status = resp_json[\"status\"]\n",
    "        if status == \"succeeded\":\n",
    "            print(\"Analysis succeeded:\\n%s\" % json.dumps(resp_json))\n",
    "            file = open(source.split('.')[0]+\"custom_jsonoutput_newmodel.txt\", \"w\")\n",
    "            file.write(json.dumps(resp.json())) \n",
    "            file.close()\n",
    "            break\n",
    "        if status == \"failed\":\n",
    "            print(\"Analysis failed:\\n%s\" % json.dumps(resp_json))\n",
    "            quit()\n",
    "        # Analysis still running. Wait and retry.\n",
    "        time.sleep(wait_sec)\n",
    "        n_try += 1\n",
    "        wait_sec = min(2*wait_sec, max_wait_sec)     \n",
    "    except Exception as e:\n",
    "        msg = \"GET analyze results failed:\\n%s\" % str(e)\n",
    "        print(msg)\n",
    "        quit()\n",
    "        print(\"Analyze operation did not complete within the allocated time.\")"
   ]
  },
  {
   "cell_type": "markdown",
   "metadata": {},
   "source": [
    "#### Please make necessary changes in the code below. This is just a sample to retrieve the necessary information"
   ]
  },
  {
   "cell_type": "code",
   "execution_count": 4,
   "metadata": {},
   "outputs": [],
   "source": [
    "import pandas as pd\n",
    "from IPython.display import display\n",
    "\n",
    "pd.options.display.max_columns = None\n",
    "ocrresult=[]\n",
    "for read_result in resp_json[\"analyzeResult\"][\"readResults\"]:\n",
    "    # print(\"Page No:%s\" % read_result[\"page\"])\n",
    "    print(\"--------------Page %d: Extracted OCR---------------\" % read_result[\"page\"])\n",
    "    for line in read_result[\"lines\"]:\n",
    "        ocrresult.append(line[\"text\"])\n",
    "keyvaluedict={}\n",
    "\n",
    "counter=0 \n",
    "\n",
    "\n",
    "for page_result in resp_json[\"analyzeResult\"][\"documentResults\"]:\n",
    "    #print(page_result)\n",
    "    keyvaluedict[counter]={}\n",
    "    keyvaluerelevant[counter]={}\n",
    "    for keyvalue in page_result['fields']:\n",
    "        newkey=keyvalue\n",
    "        if newkey not in keyvaluedict[counter].keys():\n",
    "            keyvaluedict[counter][newkey]=[]\n",
    "        keyvaluedict[counter][newkey].append(page_result['fields'][newkey]['text'])\n",
    "\n",
    "                \n",
    "                \n",
    "    counter=counter+1  \n",
    "keyvaluedict\n",
    "    "
   ]
  },
  {
   "cell_type": "markdown",
   "metadata": {},
   "source": [
    "### Cutom model training without labels 2.1\n",
    "###### The below code shows how to train the model with labels using REST API . Here, I have used labelling tool to label the data , but traning done through REST API. Not necessary to go this way, but just showcasing an option.\n",
    "#### useLabelFile = True If this value is set to False then you can use the same code for custom model without labels. \n",
    "###### Like in the previous case,you can also use the model id you get from the labelling tool and use for analyzing skipping lines [9] to [13]"
   ]
  },
  {
   "cell_type": "code",
   "execution_count": 9,
   "metadata": {},
   "outputs": [],
   "source": [
    "endpointnew=\"https://**********.cognitiveservices.azure.com/\"\n",
    "\n",
    "post_url1 = endpointnew + \"/formrecognizer/v2.1/custom/models\"\n",
    "apim_key1=\"*********************\""
   ]
  },
  {
   "cell_type": "markdown",
   "metadata": {},
   "source": [
    "#### Paste the SaS url"
   ]
  },
  {
   "cell_type": "code",
   "execution_count": 10,
   "metadata": {},
   "outputs": [],
   "source": [
    "source=\"https://adfstoragejr.blob.core.windows.net/**********?sp=****************************\" "
   ]
  },
  {
   "cell_type": "code",
   "execution_count": 11,
   "metadata": {},
   "outputs": [],
   "source": [
    "prefix=''\n",
    "includeSubFolders = False\n",
    "useLabelFile = True ## change this to false if we are doing custom model without labels\n",
    "\n",
    "headers = {\n",
    "    # Request headers\n",
    "    'Content-Type': 'application/pdf',\n",
    "    'Ocp-Apim-Subscription-Key': apim_key1,\n",
    "}\n",
    "\n",
    "body = \t{\n",
    "    \"source\": source,\n",
    "    \"sourceFilter\": {\n",
    "        \"prefix\": prefix,\n",
    "        \"includeSubFolders\": includeSubFolders\n",
    "    },\n",
    "    \"useLabelFile\": useLabelFile\n",
    "}\n",
    "\n",
    "try:\n",
    "    resp = post(url = post_url1, json = body, headers = headers)\n",
    "    if resp.status_code != 201:\n",
    "        print(\"POST model failed (%s):\\n%s\" % (resp.status_code, json.dumps(resp.json())))\n",
    "        #break\n",
    "    print(\"POST model succeeded:\\n%s\" % resp.headers)\n",
    "    get_url = resp.headers[\"location\"]\n",
    "    print(get_url)\n",
    "except Exception as e:\n",
    "    print(\"POST model failed:\\n%s\" % str(e))\n",
    "    #break\n",
    "n_tries = 10\n",
    "n_try = 0\n",
    "wait_sec = 5\n",
    "max_wait_sec = 60\n",
    "while n_try < n_tries:\n",
    "    try:\n",
    "        resp = get(url = get_url, headers = headers)\n",
    "        resp_json = resp.json()\n",
    "        if resp.status_code != 200:\n",
    "            print(\"GET model failed (%s):\\n%s\" % (resp.status_code, json.dumps(resp_json)))\n",
    "            #break\n",
    "        model_status = resp_json[\"modelInfo\"][\"status\"]\n",
    "        if model_status == \"ready\":\n",
    "            print(\"Training succeeded:\\n%s\" % json.dumps(resp_json))\n",
    "            break\n",
    "        if model_status == \"invalid\":\n",
    "            print(\"Training failed. Model is invalid:\\n%s\" % json.dumps(resp_json))\n",
    "            #break\n",
    "        # Training still running. Wait and retry.\n",
    "        time.sleep(wait_sec)\n",
    "        n_try += 1\n",
    "        wait_sec = min(2*wait_sec, max_wait_sec)     \n",
    "    except Exception as e:\n",
    "        msg = \"GET model failed:\\n%s\" % str(e)\n",
    "        print(msg)\n",
    "        break\n",
    "    print(\"Train operation did not complete within the allocated time.\")"
   ]
  },
  {
   "cell_type": "code",
   "execution_count": 12,
   "metadata": {},
   "outputs": [],
   "source": [
    "resp_json['modelInfo']['modelId']"
   ]
  },
  {
   "cell_type": "markdown",
   "metadata": {},
   "source": [
    "### Analyze Invoices based on custom models with labels after training by code"
   ]
  },
  {
   "cell_type": "code",
   "execution_count": 14,
   "metadata": {},
   "outputs": [],
   "source": [
    "\n",
    "model_id =resp_json['modelInfo']['modelId'] ##### If you did the training using the labelling tool, then you can paste the model if here\n",
    "post_url=endpointnew+\"/formrecognizer/v2.1-preview.1/custom/models/%s/analyze\" % model_id"
   ]
  },
  {
   "cell_type": "code",
   "execution_count": 15,
   "metadata": {},
   "outputs": [],
   "source": [
    "file=\"*************.pdf\""
   ]
  },
  {
   "cell_type": "code",
   "execution_count": 5,
   "metadata": {},
   "outputs": [],
   "source": [
    "\n",
    "source = file\n",
    "\n",
    "params = {\n",
    "    \"includeTextDetails\": True\n",
    "}\n",
    "\n",
    "headers = {\n",
    "    # Request headers\n",
    "    'Content-Type': 'application/pdf',\n",
    "    'Ocp-Apim-Subscription-Key': apim_key1,\n",
    "}\n",
    "with open(source, \"rb\") as f:\n",
    "    data_bytes = f.read()\n",
    "\n",
    "try:\n",
    "    resp = post(url = post_url, data = data_bytes, headers = headers, params = params)\n",
    "    if resp.status_code != 202:\n",
    "        print(\"POST analyze failed:\\n%s\" % json.dumps(resp.json()))\n",
    "        quit()\n",
    "    print(\"POST analyze succeeded:\\n%s\" % resp.headers)\n",
    "    get_url = resp.headers[\"operation-location\"]\n",
    "except Exception as e:\n",
    "    print(\"POST analyze failed:\\n%s\" % str(e))\n",
    "    quit() "
   ]
  },
  {
   "cell_type": "code",
   "execution_count": 6,
   "metadata": {},
   "outputs": [],
   "source": [
    "n_tries = 15\n",
    "n_try = 0\n",
    "wait_sec = 30\n",
    "max_wait_sec = 60\n",
    "time.sleep(wait_sec)\n",
    "while n_try < n_tries:\n",
    "    try:\n",
    "        resp = get(url = get_url, headers = {\"Ocp-Apim-Subscription-Key\": apim_key1})\n",
    "        resp_json = resp.json()\n",
    "        if resp.status_code != 200:\n",
    "            print(\"GET analyze results failed:\\n%s\" % json.dumps(resp_json))\n",
    "            quit()\n",
    "        status = resp_json[\"status\"]\n",
    "        if status == \"succeeded\":\n",
    "            print(\"Analysis succeeded:\\n%s\" % json.dumps(resp_json))\n",
    "            file = open(source.split('.')[0]+\"custom_jsonoutput_newmodel.txt\", \"w\")\n",
    "            file.write(json.dumps(resp.json())) \n",
    "            file.close()\n",
    "            break\n",
    "        if status == \"failed\":\n",
    "            print(\"Analysis failed:\\n%s\" % json.dumps(resp_json))\n",
    "            quit()\n",
    "        # Analysis still running. Wait and retry.\n",
    "        time.sleep(wait_sec)\n",
    "        n_try += 1\n",
    "        wait_sec = min(2*wait_sec, max_wait_sec)     \n",
    "    except Exception as e:\n",
    "        msg = \"GET analyze results failed:\\n%s\" % str(e)\n",
    "        print(msg)\n",
    "        quit()\n",
    "        print(\"Analyze operation did not complete within the allocated time.\")"
   ]
  },
  {
   "cell_type": "code",
   "execution_count": 7,
   "metadata": {},
   "outputs": [],
   "source": [
    "import pandas as pd\n",
    "from IPython.display import display\n",
    "\n",
    "pd.options.display.max_columns = None\n",
    "ocrresults=[]\n",
    "for read_result in resp_json[\"analyzeResult\"][\"readResults\"]:\n",
    "    # print(\"Page No:%s\" % read_result[\"page\"])\n",
    "    print(\"--------------Page %d: Extracted OCR---------------\" % read_result[\"page\"])\n",
    "    for line in read_result[\"lines\"]:\n",
    "        ocrresults.append(line[\"text\"])\n",
    "\n",
    "keyvaluedict={}\n",
    "counter=0 \n",
    "\n",
    "\n",
    "for page_result in resp_json[\"analyzeResult\"][\"documentResults\"]:\n",
    "    #print(page_result)\n",
    "    keyvaluedict[counter]={}\n",
    "    keyvaluerelevant[counter]={}\n",
    "    for keyvalue in page_result['fields']:\n",
    "        newkey=keyvalue\n",
    "        if newkey not in keyvaluedict[counter].keys():\n",
    "            keyvaluedict[counter][newkey]=[]\n",
    "\n",
    "        keyvaluedict[counter][newkey].append(page_result['fields'][newkey]['text'])           \n",
    "                \n",
    "    counter=counter+1  \n",
    "keyvaluedict\n",
    "    "
   ]
  }
 ],
 "metadata": {
  "kernelspec": {
   "display_name": "Python 3.6 - AzureML",
   "language": "python",
   "name": "python3-azureml"
  },
  "language_info": {
   "codemirror_mode": {
    "name": "ipython",
    "version": 3
   },
   "file_extension": ".py",
   "mimetype": "text/x-python",
   "name": "python",
   "nbconvert_exporter": "python",
   "pygments_lexer": "ipython3",
   "version": "3.6.9"
  }
 },
 "nbformat": 4,
 "nbformat_minor": 2
}
